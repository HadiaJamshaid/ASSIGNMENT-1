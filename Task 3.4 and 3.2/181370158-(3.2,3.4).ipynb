{
 "cells": [
  {
   "cell_type": "code",
   "execution_count": 51,
   "id": "62ef966f",
   "metadata": {},
   "outputs": [
    {
     "name": "stdout",
     "output_type": "stream",
     "text": [
      "dict_keys(['CS101', 'CS102', 'CS103', 'NT110', 'CM241']) dict_values([3004, 4501, 6755, 1244, 1411])\n",
      "dict_keys(['CS101', 'CS102', 'CS103', 'NT110', 'CM241']) dict_values(['Haynes', 'Alvarado', 'Rich', 'Burke', 'Lee'])\n",
      "dict_keys(['CS101', 'CS102', 'CS103', 'NT110', 'CM241']) dict_values(['8:00 a.m.', '9:00 a.m.', '10:00 a.m', '11:00 a.m', '1:00 p.m'])\n"
     ]
    }
   ],
   "source": [
    "roomNumber={'CS101': 3004,'CS102': 4501,'CS103': 6755,'NT110': 1244,'CM241' :1411}\n",
    "instructor={'CS101':'Haynes','CS102':'Alvarado','CS103':'Rich','NT110' :'Burke','CM241': 'Lee'}\n",
    "time={'CS101' : '8:00 a.m.','CS102': '9:00 a.m.','CS103': '10:00 a.m','NT110' :'11:00 a.m','CM241' :'1:00 p.m'}\n",
    "print(roomNumber.keys(),roomNumber.values())\n",
    "print(instructor.keys(),instructor.values())\n",
    "print(time.keys(),time.values())"
   ]
  },
  {
   "cell_type": "code",
   "execution_count": 37,
   "id": "ca135fda",
   "metadata": {},
   "outputs": [],
   "source": [
    "dictionary = {'A':'!','B':'@','C':'#','D':'$','E':'%','F':'^','G':'&','H':'*','I':'(',\n",
    "                      'J':')','K':'-','L':'_','M':'+','N':'=','O':'`','P':'~','Q':'{','R':'[',\n",
    "                      'S':'}','T':']','U':':','V':';','W':'\"','X':'<','Y':'>','Z':'0','a':'1',\n",
    "                      'b':'2','c':'3','d':'4','e':'5','f':'6','g':'7','h':'8','i':'9','j':'a',\n",
    "                      'k':'b','l':'c','m':'d','n':'e','o':'f','p':'g','q':'h','r':'i','s':'j',\n",
    "                      't':'k','u':'l','v':'m','w':'n','x':'o','y':'p','z':'q'}\n",
    "file = open('hadia.txt','r')\n",
    "string = file.read()\n",
    "file.close()\n",
    "encrypt_file = open('encrypt.txt','w')\n",
    "\n",
    "for i in string:\n",
    "    if i in dictionary:\n",
    "        encrypt_file.write(dictionary[i])\n",
    "    else:\n",
    "        encrypt_file.write(i)\n"
   ]
  },
  {
   "cell_type": "code",
   "execution_count": 50,
   "id": "d5140378",
   "metadata": {},
   "outputs": [
    {
     "name": "stdout",
     "output_type": "stream",
     "text": [
      "85ccf nfic4\n",
      "helloworld"
     ]
    }
   ],
   "source": [
    "key_list = list(dictionary.keys())\n",
    "val_list = list(dictionary.values())\n",
    "file2=open('encrypt.txt','r')\n",
    "string2=file2.read()\n",
    "print(string2)\n",
    "for i in string2:\n",
    "    if i in val_list:\n",
    "        pos=val_list.index(i)\n",
    "        print(key_list[pos], end=\"\")"
   ]
  }
 ],
 "metadata": {
  "kernelspec": {
   "display_name": "Python 3",
   "language": "python",
   "name": "python3"
  },
  "language_info": {
   "codemirror_mode": {
    "name": "ipython",
    "version": 3
   },
   "file_extension": ".py",
   "mimetype": "text/x-python",
   "name": "python",
   "nbconvert_exporter": "python",
   "pygments_lexer": "ipython3",
   "version": "3.8.8"
  }
 },
 "nbformat": 4,
 "nbformat_minor": 5
}
