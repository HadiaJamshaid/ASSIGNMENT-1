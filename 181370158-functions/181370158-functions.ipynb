{
 "cells": [
  {
   "cell_type": "markdown",
   "id": "d38c1761",
   "metadata": {},
   "source": [
    "Write a function named manhattan_distance to compute Manhattan Distance between two \n",
    "|𝑥1 − 𝑥2\n",
    "| + |𝑦1 − 𝑦2\n",
    "|\n"
   ]
  },
  {
   "cell_type": "code",
   "execution_count": 25,
   "id": "e324535f",
   "metadata": {},
   "outputs": [
    {
     "name": "stdout",
     "output_type": "stream",
     "text": [
      "Enter Values For Point 1 : 50\n",
      "Enter Values For Point 1 : 30\n",
      "Enter Values For Point 2 : 97\n",
      "Enter Values For Point 2 : 20\n",
      "Manhattan Distance Between These Points =  97\n"
     ]
    }
   ],
   "source": [
    "import docString as fm\n",
    "point1=[]\n",
    "point2=[]\n",
    "for i in range(0,2):\n",
    "    point1.append(int(input(\"Enter Values For Point 1 : \")))\n",
    "for i in range(0,2):\n",
    "    point2.append(int(input(\"Enter Values For Point 2 : \")))\n",
    "print(\"Manhattan Distance Between These Points = \",fm.manhattan_distance(point1,point2))\n"
   ]
  },
  {
   "cell_type": "markdown",
   "id": "6eb62b41",
   "metadata": {},
   "source": [
    "Write a function named euclidian_distance to compute Euclidian Distance between two point\n",
    "√(𝑥2 − 𝑥1\n",
    ")\n",
    "2 + (𝑦2 − 𝑦1\n",
    ")\n",
    "2"
   ]
  },
  {
   "cell_type": "code",
   "execution_count": 26,
   "id": "2ffd039d",
   "metadata": {},
   "outputs": [
    {
     "name": "stdout",
     "output_type": "stream",
     "text": [
      "Enter Values For Point 1 : 50\n",
      "Enter Values For Point 1 : 30\n",
      "Enter Values For Point 2 : 97\n",
      "Enter Values For Point 2 : 20\n",
      "Eudlidean Distance Between These Points =  48.05205510693585\n"
     ]
    }
   ],
   "source": [
    "import euclidean as fm\n",
    "point1=[]\n",
    "point2=[]\n",
    "for i in range(0,2):\n",
    "    point1.append(int(input(\"Enter Values For Point 1 : \")))\n",
    "for i in range(0,2):\n",
    "    point2.append(int(input(\"Enter Values For Point 2 : \")))\n",
    "print(\"Eudlidean Distance Between These Points = \",fm.euclidian_distance(point1,point2))    "
   ]
  },
  {
   "cell_type": "markdown",
   "id": "fd76167f",
   "metadata": {},
   "source": [
    "Pangram string is a string which contains every letter of the alphabet at least once. For example, \n",
    "“The quick brown fox jumps over the lazy dog” is a pangram. Write a function named \n",
    "is_pangram that accepts a string and returns true if the string is pangram otherwise returns \n",
    "false. "
   ]
  },
  {
   "cell_type": "code",
   "execution_count": 32,
   "id": "ae1ce73e",
   "metadata": {},
   "outputs": [
    {
     "name": "stdout",
     "output_type": "stream",
     "text": [
      "Enter any string : The quick brown fox jumps over the lazy dog\n",
      "yess,Your Input String Is Pangram.\n"
     ]
    }
   ],
   "source": [
    "import pangram as fm\n",
    "user=input(\"Enter any string : \")\n",
    "if fm.is_pangram(user):\n",
    "    print(\"yess,Your Input String Is Pangram.\")\n",
    "else:\n",
    "    print(\"No , the string you enterder is not pangram.\")"
   ]
  },
  {
   "cell_type": "markdown",
   "id": "75277baa",
   "metadata": {},
   "source": [
    "Suppose that you are working on a financial application for Bank of Gujranwala. The financial \n",
    "application contains a module related to investments and returns. Your project manager \n",
    "assigned you the task of writing this module. For this task, you will write a simple .py file using \n",
    "any editor of your choice. However, Spyder is recommended. Name the file as \n",
    "financemodule.py and place this file in the same directory that contains your notebook. You are \n",
    "required to write the following functions:\n",
    "a. interest_monthly that accepts two arguments named balance and \n",
    "annual_interest_rate. Interest on the next monthly payment can be calculated \n",
    "as:\n",
    "𝑖𝑛𝑡𝑒𝑟𝑒𝑠𝑡 = 𝑏𝑎𝑙𝑎𝑛𝑐𝑒 × (\n",
    "𝑎𝑛𝑛𝑢𝑎𝑙 𝑖𝑛𝑡𝑒𝑟𝑒𝑠𝑡 𝑟𝑎𝑡𝑒\n",
    "1200 )\n",
    "b. future_investment_value that accepts three arguments named \n",
    "investment_amount, monthly_interest_rate, and number_of_years.\n",
    "Following formula can be used to calculate the future value:\n",
    "𝑓𝑢𝑡𝑢𝑟𝑒𝑉𝑎𝑙 =\n",
    "𝐼𝑛𝑣𝑒𝑠𝑡𝑚𝑒𝑛𝑡𝐴𝑚𝑜𝑢𝑛𝑡 × (1 + 𝑀𝑜𝑛𝑡ℎ𝑙𝑦𝐼𝑛𝑡𝑒𝑟𝑒𝑠𝑡𝑅𝑎𝑡𝑒 )\n",
    "𝑛𝑢𝑚𝑏𝑒𝑟𝑜𝑓𝑦𝑒𝑎𝑟𝑠 ∗ 12\n",
    " After creating the module, next step is to import the module in your Jupyter Notebook file. \n",
    "Given below is a sample for importing and using your module:\n",
    "After importing the module, write a sample program to demonstrate both functions. \n"
   ]
  },
  {
   "cell_type": "code",
   "execution_count": 40,
   "id": "3bd2818f",
   "metadata": {},
   "outputs": [
    {
     "name": "stdout",
     "output_type": "stream",
     "text": [
      "Enter Balance : 11312\n",
      "Enter Annual Interest Rate : 12\n",
      "Monthly Interest Rate =  113.12\n",
      "Enter Investment Amount : 123\n",
      "Enter Monthly Interest : 12\n",
      "Enter Number Of Years : 1\n",
      "None\n",
      "Future Investment Rate =  None\n"
     ]
    }
   ],
   "source": [
    "import monthly_interest as fm\n",
    "\n",
    "balance = float(input(\"Enter Balance : \"))\n",
    "annual_interest_rate = float(input(\"Enter Annual Interest Rate : \"))\n",
    "monthly_Interest=fm.interest_monthly(balance,annual_interest_rate)\n",
    "print(\"Monthly Interest Rate = \",monthly_Interest)\n"
   ]
  },
  {
   "cell_type": "code",
   "execution_count": 3,
   "id": "098f8b45",
   "metadata": {},
   "outputs": [
    {
     "name": "stdout",
     "output_type": "stream",
     "text": [
      "Enter Investment Amount : 12\n",
      "Enter Monthly Interest : 12\n",
      "Enter Number Of Years : 12\n",
      "Future Investment Rate =  3354924257637264.0\n"
     ]
    }
   ],
   "source": [
    "import temp as fm\n",
    "\n",
    "investment_amount=float(input(\"Enter Investment Amount : \"))\n",
    "monthly_interest_rate=float(input(\"Enter Monthly Interest : \"))\n",
    "number_of_years=float(input(\"Enter Number Of Years : \"))\n",
    "\n",
    "future_investment=fm.future_investment_value(investment_amount,monthly_interest_rate,number_of_years)\n",
    "\n",
    "print(\"Future Investment Rate = \",future_investment)"
   ]
  }
 ],
 "metadata": {
  "kernelspec": {
   "display_name": "Python 3",
   "language": "python",
   "name": "python3"
  },
  "language_info": {
   "codemirror_mode": {
    "name": "ipython",
    "version": 3
   },
   "file_extension": ".py",
   "mimetype": "text/x-python",
   "name": "python",
   "nbconvert_exporter": "python",
   "pygments_lexer": "ipython3",
   "version": "3.8.8"
  }
 },
 "nbformat": 4,
 "nbformat_minor": 5
}
