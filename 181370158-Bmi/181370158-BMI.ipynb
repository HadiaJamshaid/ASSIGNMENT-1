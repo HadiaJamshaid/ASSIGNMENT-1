{
 "cells": [
  {
   "cell_type": "code",
   "execution_count": 13,
   "id": "e8a55c77",
   "metadata": {},
   "outputs": [
    {
     "name": "stdout",
     "output_type": "stream",
     "text": [
      "['Ahmad', 'Zeeshan', 'Qasim', 'Usman', 'Shabbir', 'Fahad', 'Ali', 'Haris']\n",
      "[' 81', ' 75', ' 77', ' 72', ' 68', ' 24', ' 90', ' 5.9']\n",
      "[' 5.9', ' 5.8', ' 5.8', ' 5.6', ' 5.5', ' 4', ' 6', ' 77']\n",
      "[1.8, 1.77, 1.77, 1.71, 1.68, 1.22, 1.83, 23.47]\n",
      "[28.12, 27.3, 28.03, 28.77, 28.44, 18.83, 29.78, 0.0]\n"
     ]
    }
   ],
   "source": [
    "import csv\n",
    "names=[] \n",
    "height_feet=[] \n",
    "height_meters=[] \n",
    "weight=[]\n",
    "bmi=[]\n",
    "\n",
    "def feet_to_meter(height):\n",
    "    in_meter=height*0.3048\n",
    "    return round(in_meter,2)\n",
    "\n",
    "def calculate_bmi(height,weight):\n",
    "    bmi=weight/(height**height)\n",
    "    return round(bmi,2)\n",
    "\n",
    "def process_file(gym, name, weight, height_feet):\n",
    "    f=open('gym.csv','r')\n",
    "    reader=csv.reader(f)\n",
    "    for row in reader:\n",
    "        names.append(row[0])\n",
    "        weight.append(row[1])\n",
    "        height_feet.append(row[2])\n",
    "    \n",
    "process_file('gym.csv',names,weight,height_feet)\n",
    "\n",
    "names.remove('name')\n",
    "weight.remove(' weight')\n",
    "height_feet.remove(' height')\n",
    "print(names)\n",
    "print(weight)\n",
    "print(height_feet)\n",
    "\n",
    "for i in range(0,len(height_feet)):\n",
    "    height_meters.append(feet_to_meter(float(height_feet[i])))\n",
    "print(height_meters)\n",
    "\n",
    "for i in range(0,len(weight)):\n",
    "    bmi.append(calculate_bmi(float(height_meters[i]),float(weight[i])))\n",
    "print(bmi)\n",
    "    \n",
    "def write_to_file(names,bmi):\n",
    "    data=open(\"bmi_ouput.txt\",\"w\")\n",
    "    for val in zip(names,bmi):\n",
    "        data.write('{}, {}\\n'.format(val[0], val[1]))\n",
    "    data.close()\n",
    "write_to_file(names,bmi)\n",
    "    "
   ]
  },
  {
   "cell_type": "code",
   "execution_count": null,
   "id": "338460fc",
   "metadata": {},
   "outputs": [],
   "source": []
  }
 ],
 "metadata": {
  "kernelspec": {
   "display_name": "Python 3",
   "language": "python",
   "name": "python3"
  },
  "language_info": {
   "codemirror_mode": {
    "name": "ipython",
    "version": 3
   },
   "file_extension": ".py",
   "mimetype": "text/x-python",
   "name": "python",
   "nbconvert_exporter": "python",
   "pygments_lexer": "ipython3",
   "version": "3.8.8"
  }
 },
 "nbformat": 4,
 "nbformat_minor": 5
}
