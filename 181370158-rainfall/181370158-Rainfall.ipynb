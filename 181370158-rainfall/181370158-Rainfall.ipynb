{
 "cells": [
  {
   "cell_type": "code",
   "execution_count": 40,
   "id": "bbd908de",
   "metadata": {},
   "outputs": [
    {
     "name": "stdout",
     "output_type": "stream",
     "text": [
      "[21.82, 29.52, 19.56, 31.78, 29.21, 27.99, 28.18, 23.58, 19.38, 17.56, 20.28, 17.89, 30.84, 21.17, 27.24, 30.32, 26.04, 27.93, 23.61, 33.18, 26.93, 22.07, 29.0, 20.96, 33.82, 24.49, 23.23, 16.34, 31.02, 33.48]\n",
      "30\n",
      "['1991', '1992', '1993', '1994', '1995', '1996', '1997', '1998', '1999', '2000', '2001', '2002', '2003', '2004', '2005', '2006', '2007', '2008', '2009', '2010', '2011', '2012', '2013', '2014', '2015', '2016', '2017', '2018', '2019', '2020']\n"
     ]
    }
   ],
   "source": [
    "import csv\n",
    "years=[]\n",
    "rainfall=[]\n",
    "avg=[]\n",
    "av=0.0\n",
    "a= -12\n",
    "b=0\n",
    "\n",
    "f=open('rainfal.csv','r')\n",
    "reader = csv.reader(f)\n",
    "for row in reader:\n",
    "    rainfall.append(row[0])\n",
    "    years.append(row[1])\n",
    "years.remove(' Year')\n",
    "rainfall.remove('Rainfall - (MM)')\n",
    "\n",
    "def cal(list):\n",
    "    avgY=0.0\n",
    "    for i in list:\n",
    "        avgY=avgY+float(i)     \n",
    "    avgY=avgY/12\n",
    "    avg.append(round(avgY,2))\n",
    "        \n",
    "for i in range(0,30):\n",
    "    a=a+12\n",
    "    b=b+12\n",
    "    list= rainfall[a:b]\n",
    "    cal(list)\n",
    "    \n",
    "print(avg)\n",
    "print(len(avg))\n",
    "\n",
    "x=-12\n",
    "listYearsUnique=[]\n",
    "for i in range(0,30):\n",
    "    x=x+12 \n",
    "    listYearsUnique.append(years[x])\n",
    "print(listYearsUnique)\n",
    "\n",
    "data= open('rain-average.txt.txt','w')\n",
    "for val in zip(listYearsUnique,avg):\n",
    "    data.write('{}, {}\\n'.format(val[0], val[1]))\n",
    "data.close()\n"
   ]
  }
 ],
 "metadata": {
  "kernelspec": {
   "display_name": "Python 3",
   "language": "python",
   "name": "python3"
  },
  "language_info": {
   "codemirror_mode": {
    "name": "ipython",
    "version": 3
   },
   "file_extension": ".py",
   "mimetype": "text/x-python",
   "name": "python",
   "nbconvert_exporter": "python",
   "pygments_lexer": "ipython3",
   "version": "3.8.8"
  }
 },
 "nbformat": 4,
 "nbformat_minor": 5
}
