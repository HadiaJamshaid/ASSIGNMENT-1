{
 "cells": [
  {
   "cell_type": "code",
   "execution_count": 42,
   "id": "a0ee0358",
   "metadata": {},
   "outputs": [
    {
     "name": "stdout",
     "output_type": "stream",
     "text": [
      "Hum honge kamyab, hum honge kamyab aik din\n"
     ]
    }
   ],
   "source": [
    "string=\"Hum honge kamyab, hum honge kamyab aik din\"\n",
    "print(string)\n",
    "\n"
   ]
  },
  {
   "cell_type": "code",
   "execution_count": 38,
   "id": "0407e763",
   "metadata": {},
   "outputs": [
    {
     "name": "stdout",
     "output_type": "stream",
     "text": [
      " aik din\n"
     ]
    }
   ],
   "source": [
    "string=\"Hum honge kamyab, hum honge kamyab aik din\"\n",
    "print(string[34:])\n",
    "\n",
    "\n",
    "#print(str[6:8])"
   ]
  },
  {
   "cell_type": "code",
   "execution_count": 39,
   "id": "a3453b97",
   "metadata": {},
   "outputs": [
    {
     "name": "stdout",
     "output_type": "stream",
     "text": [
      "honge kamyab\n"
     ]
    }
   ],
   "source": [
    "string=\"Hum honge kamyab, hum honge kamyab aik din\"\n",
    "print(string[4:16])\n",
    "\n",
    "#str=string.split()\n",
    "#print(str[4:6])"
   ]
  },
  {
   "cell_type": "code",
   "execution_count": 54,
   "id": "a3344796",
   "metadata": {},
   "outputs": [
    {
     "name": "stdout",
     "output_type": "stream",
     "text": [
      "18\n"
     ]
    }
   ],
   "source": [
    "if 'hum' in string:\n",
    "     print(string.index('hum'))\n",
    "        \n",
    "   "
   ]
  },
  {
   "cell_type": "code",
   "execution_count": 41,
   "id": "004cbee2",
   "metadata": {},
   "outputs": [
    {
     "name": "stdout",
     "output_type": "stream",
     "text": [
      "aik din\n"
     ]
    }
   ],
   "source": [
    "\n",
    "if 'KAMYAB' not in string:\n",
    "    print(\"aik din\")"
   ]
  },
  {
   "cell_type": "code",
   "execution_count": 62,
   "id": "d138d537",
   "metadata": {},
   "outputs": [
    {
     "name": "stdout",
     "output_type": "stream",
     "text": [
      "no, lalalala is in string .\n"
     ]
    }
   ],
   "source": [
    "if \"lalalala\" not in string:\n",
    "    print(\"no, lalalala is in string .\")\n",
    "else:\n",
    "    print(\"yes , lalalala is not in string\")"
   ]
  },
  {
   "cell_type": "code",
   "execution_count": 63,
   "id": "6ff3a9e7",
   "metadata": {},
   "outputs": [
    {
     "name": "stdout",
     "output_type": "stream",
     "text": [
      "yes it is in string.\n"
     ]
    }
   ],
   "source": [
    "if ',' in string:\n",
    "    print(\"yes it is in string.\")\n",
    "else:\n",
    "    print(\"no it is not in string.\")"
   ]
  },
  {
   "cell_type": "code",
   "execution_count": 76,
   "id": "c8c9ca79",
   "metadata": {},
   "outputs": [
    {
     "name": "stdout",
     "output_type": "stream",
     "text": [
      "kamyab\n"
     ]
    }
   ],
   "source": [
    "string=\"Hum honge kamyab, hum honge kamyab aik din\"\n",
    "print(string[-14:-8])"
   ]
  },
  {
   "cell_type": "code",
   "execution_count": 70,
   "id": "77b8d12e",
   "metadata": {},
   "outputs": [
    {
     "name": "stdout",
     "output_type": "stream",
     "text": [
      "Boom: SanDisk just dropped the world’s largest SD card\n"
     ]
    }
   ],
   "source": [
    "string2=\"Boom: SanDisk just dropped the world’s largest SD card\"\n",
    "copyMessage=string2[0:]\n",
    "print(copyMessage)"
   ]
  },
  {
   "cell_type": "code",
   "execution_count": 9,
   "id": "d538266e",
   "metadata": {},
   "outputs": [
    {
     "name": "stdout",
     "output_type": "stream",
     "text": [
      "sub String is :  SanDisk\n",
      "Lenth of subString is :  7\n"
     ]
    }
   ],
   "source": [
    "string2=\"Boom: SanDisk just dropped the world’s largest SD card\"\n",
    "k=int(string2.index('k'))\n",
    "s=int(string2.index('S'))\n",
    "\n",
    "\n",
    "subString=\"\"\n",
    "subString=string2[s:k+1]\n",
    "print(\"sub String is : \",subString)\n",
    "print(\"Lenth of subString is : \",len(subString))"
   ]
  },
  {
   "cell_type": "code",
   "execution_count": 8,
   "id": "5cab260d",
   "metadata": {},
   "outputs": [
    {
     "name": "stdout",
     "output_type": "stream",
     "text": [
      "sub string is :  SD card\n",
      "Length of subString is :  7\n"
     ]
    }
   ],
   "source": [
    "subString2=string2[47:]\n",
    "print(\"sub string is : \",subString2)\n",
    "print(\"Length of subString is : \",len(subString2))"
   ]
  },
  {
   "cell_type": "code",
   "execution_count": 7,
   "id": "abe2cf16",
   "metadata": {},
   "outputs": [
    {
     "name": "stdout",
     "output_type": "stream",
     "text": [
      "la is not in string 2.\n"
     ]
    }
   ],
   "source": [
    "memCheck=\"\"\n",
    "if 'LA' in string2:\n",
    "    memCheck='la'\n",
    "else:\n",
    "    print(\"la is not in string 2.\")"
   ]
  },
  {
   "cell_type": "code",
   "execution_count": 110,
   "id": "2d98b99a",
   "metadata": {},
   "outputs": [
    {
     "name": "stdout",
     "output_type": "stream",
     "text": [
      "                       Boom: SanDisk just dropped the world’s largest SD card                       \n"
     ]
    }
   ],
   "source": [
    "newMessage=string2.center(100,\" \")\n",
    "print(newMessage)"
   ]
  },
  {
   "cell_type": "code",
   "execution_count": 112,
   "id": "15117549",
   "metadata": {},
   "outputs": [
    {
     "name": "stdout",
     "output_type": "stream",
     "text": [
      "***********************Boom: SanDisk just dropped the world’s largest SD card***********************\n"
     ]
    }
   ],
   "source": [
    "newMessage2=string2.center(100,\"*\")\n",
    "print(newMessage2)"
   ]
  },
  {
   "cell_type": "code",
   "execution_count": 119,
   "id": "e96d8cfc",
   "metadata": {},
   "outputs": [
    {
     "name": "stdout",
     "output_type": "stream",
     "text": [
      "no\n"
     ]
    }
   ],
   "source": [
    "suffixCheck=\"no\"\n",
    "if string2[14:17]=='ped':\n",
    "    suffixCheck=\"yes\"\n",
    "print(suffixCheck)"
   ]
  },
  {
   "cell_type": "code",
   "execution_count": 141,
   "id": "09e33fc1",
   "metadata": {},
   "outputs": [
    {
     "name": "stdout",
     "output_type": "stream",
     "text": [
      "False\n"
     ]
    }
   ],
   "source": [
    "result=string2.endswith('ped',14,17)\n",
    "print(result)"
   ]
  },
  {
   "cell_type": "code",
   "execution_count": 124,
   "id": "b686edf8",
   "metadata": {},
   "outputs": [
    {
     "name": "stdout",
     "output_type": "stream",
     "text": [
      "no\n"
     ]
    }
   ],
   "source": [
    "membershipCheck=\"no\"\n",
    "if '1 TB' in string2:\n",
    "    membershipCheck='yes'\n",
    "print(membershipCheck)"
   ]
  },
  {
   "cell_type": "code",
   "execution_count": 3,
   "id": "fcf12d67",
   "metadata": {},
   "outputs": [
    {
     "name": "stdout",
     "output_type": "stream",
     "text": [
      "27.0\n",
      "Random string in :  the world’s\n"
     ]
    }
   ],
   "source": [
    "string2=\"Boom: SanDisk just dropped the world’s largest SD card\"\n",
    "randomString=\"\"\n",
    "\n",
    "index=int(len(string2)/2)\n",
    "print(len(string2)/2)\n",
    "randomstring=string2[index:index+11]\n",
    "print(\"Random string in : \",randomstring)"
   ]
  },
  {
   "cell_type": "code",
   "execution_count": 5,
   "id": "b6ad5fe5",
   "metadata": {},
   "outputs": [
    {
     "name": "stdout",
     "output_type": "stream",
     "text": [
      "Length of string2 in :  54\n",
      "as length of another string have to double of string2 that's why length is : 108\n",
      "Boom: SanDisk just dropped the world’s largest SD card******************************************************\n"
     ]
    }
   ],
   "source": [
    "string2=\"Boom: SanDisk just dropped the world’s largest SD card\"\n",
    "length=len(string2)*2\n",
    "anotherstring=string2\n",
    "for i in range(54,length):\n",
    "    \n",
    "    anotherstring=anotherstring+\"*\"\n",
    "print(\"Length of string2 in : \",len(string2))\n",
    "print(\"as length of another string have to double of string2 that's why length is :\",len(anotherstring))\n",
    "print(anotherstring)"
   ]
  },
  {
   "cell_type": "code",
   "execution_count": null,
   "id": "f7145481",
   "metadata": {},
   "outputs": [],
   "source": []
  }
 ],
 "metadata": {
  "kernelspec": {
   "display_name": "Python 3",
   "language": "python",
   "name": "python3"
  },
  "language_info": {
   "codemirror_mode": {
    "name": "ipython",
    "version": 3
   },
   "file_extension": ".py",
   "mimetype": "text/x-python",
   "name": "python",
   "nbconvert_exporter": "python",
   "pygments_lexer": "ipython3",
   "version": "3.8.8"
  }
 },
 "nbformat": 4,
 "nbformat_minor": 5
}
